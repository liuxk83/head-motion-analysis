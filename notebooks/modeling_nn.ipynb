{
 "cells": [
  {
   "cell_type": "markdown",
   "id": "58bc4301",
   "metadata": {},
   "source": [
    "# Data Analysis\n",
    "\n",
    "In this notebook, we load the framewise displacement data and perform some exploratory data analysis by generating some visualizations of the data."
   ]
  },
  {
   "cell_type": "code",
   "execution_count": null,
   "id": "f6b12907",
   "metadata": {},
   "outputs": [
    {
     "name": "stdout",
     "output_type": "stream",
     "text": [
      "The autoreload extension is already loaded. To reload it, use:\n",
      "  %reload_ext autoreload\n"
     ]
    }
   ],
   "source": [
    "# add modules to path\n",
    "import sys\n",
    "sys.path.insert(1, '../src')\n",
    "\n",
    "# library imports\n",
    "import torch\n",
    "import random\n",
    "import numpy as np\n",
    "from sklearn.metrics import confusion_matrix, classification_report\n",
    "\n",
    "# project imports\n",
    "import data_processing as dp\n",
    "import train_eval as te\n",
    "import models_nn as mnn\n",
    "\n",
    "# autoreload all modules\n",
    "%load_ext autoreload\n",
    "%autoreload 2"
   ]
  },
  {
   "cell_type": "code",
   "execution_count": 28,
   "id": "20ece4cd-6252-4189-9bdd-95f8e936ac39",
   "metadata": {},
   "outputs": [
    {
     "name": "stdout",
     "output_type": "stream",
     "text": [
      "Loaded 320/364 PD subjects and 44/88 Control subjects\n"
     ]
    }
   ],
   "source": [
    "# Load the data from the .npz file\n",
    "data_dict, pd_keys, control_keys = dp.load_data()"
   ]
  },
  {
   "cell_type": "code",
   "execution_count": 29,
   "id": "c29e325b-7e72-4ced-aec9-0bf1c8942fdc",
   "metadata": {},
   "outputs": [],
   "source": [
    "# ----------------------- Hyper-parameters ----------------------- #\n",
    "MAX_LEN = 200  # truncate / zero-pad sequences to this length\n",
    "BATCH_SIZE = 32\n",
    "EPOCHS = 100\n",
    "LR = 2e-3\n",
    "DEVICE = \"cuda\" if torch.cuda.is_available() else \"cpu\"\n",
    "RNG_SEED = 42\n",
    "\n",
    "random.seed(RNG_SEED)\n",
    "np.random.seed(RNG_SEED)\n",
    "torch.manual_seed(RNG_SEED)\n",
    "\n",
    "keys = pd_keys + control_keys\n",
    "random.shuffle(keys)\n",
    "\n",
    "dataset = dp.MotionDataset(data_dict, keys, MAX_LEN)\n",
    "train_loader, val_loader = te.train_val_split(\n",
    "        dataset, val_size=0.2, random_state=RNG_SEED, batch_size=BATCH_SIZE\n",
    ")\n"
   ]
  },
  {
   "cell_type": "code",
   "execution_count": 30,
   "id": "c13ae7b1",
   "metadata": {},
   "outputs": [
    {
     "name": "stdout",
     "output_type": "stream",
     "text": [
      "\n",
      "Training GRU…\n",
      "Epoch 05/100  val_acc=0.556  val_bal_acc=0.641  val_auc=0.721\n",
      "Epoch 10/100  val_acc=0.778  val_bal_acc=0.602  val_auc=0.686\n",
      "Epoch 15/100  val_acc=0.708  val_bal_acc=0.508  val_auc=0.555\n",
      "Epoch 20/100  val_acc=0.583  val_bal_acc=0.547  val_auc=0.527\n",
      "Epoch 25/100  val_acc=0.778  val_bal_acc=0.602  val_auc=0.537\n",
      "Epoch 30/100  val_acc=0.681  val_bal_acc=0.547  val_auc=0.564\n",
      "Epoch 35/100  val_acc=0.722  val_bal_acc=0.461  val_auc=0.467\n",
      "Epoch 40/100  val_acc=0.681  val_bal_acc=0.438  val_auc=0.436\n",
      "Epoch 45/100  val_acc=0.736  val_bal_acc=0.469  val_auc=0.467\n",
      "Epoch 50/100  val_acc=0.694  val_bal_acc=0.555  val_auc=0.574\n",
      "Epoch 55/100  val_acc=0.722  val_bal_acc=0.570  val_auc=0.525\n",
      "Epoch 60/100  val_acc=0.750  val_bal_acc=0.586  val_auc=0.504\n",
      "Epoch 65/100  val_acc=0.708  val_bal_acc=0.508  val_auc=0.510\n",
      "Epoch 70/100  val_acc=0.778  val_bal_acc=0.547  val_auc=0.559\n",
      "Epoch 75/100  val_acc=0.778  val_bal_acc=0.547  val_auc=0.547\n",
      "Epoch 80/100  val_acc=0.764  val_bal_acc=0.484  val_auc=0.455\n",
      "Epoch 85/100  val_acc=0.792  val_bal_acc=0.500  val_auc=0.490\n",
      "Epoch 90/100  val_acc=0.792  val_bal_acc=0.555  val_auc=0.553\n",
      "Epoch 95/100  val_acc=0.792  val_bal_acc=0.500  val_auc=0.502\n",
      "Epoch 100/100  val_acc=0.792  val_bal_acc=0.500  val_auc=0.494\n",
      "GRU final  ACC=0.792  BAL_ACC=0.500  AUC=0.494\n",
      "Confusion matrix:\n",
      " [[ 1  7]\n",
      " [ 8 56]]\n",
      "              precision    recall  f1-score   support\n",
      "\n",
      "         0.0      0.111     0.125     0.118         8\n",
      "         1.0      0.889     0.875     0.882        64\n",
      "\n",
      "    accuracy                          0.792        72\n",
      "   macro avg      0.500     0.500     0.500        72\n",
      "weighted avg      0.802     0.792     0.797        72\n",
      "\n",
      "\n",
      "Training LSTM…\n",
      "Epoch 05/100  val_acc=0.764  val_bal_acc=0.594  val_auc=0.707\n",
      "Epoch 10/100  val_acc=0.722  val_bal_acc=0.570  val_auc=0.750\n",
      "Epoch 15/100  val_acc=0.764  val_bal_acc=0.594  val_auc=0.541\n",
      "Epoch 20/100  val_acc=0.653  val_bal_acc=0.531  val_auc=0.555\n",
      "Epoch 25/100  val_acc=0.625  val_bal_acc=0.570  val_auc=0.627\n",
      "Epoch 30/100  val_acc=0.694  val_bal_acc=0.555  val_auc=0.615\n",
      "Epoch 35/100  val_acc=0.597  val_bal_acc=0.500  val_auc=0.510\n",
      "Epoch 40/100  val_acc=0.708  val_bal_acc=0.562  val_auc=0.504\n",
      "Epoch 45/100  val_acc=0.625  val_bal_acc=0.516  val_auc=0.527\n",
      "Epoch 50/100  val_acc=0.750  val_bal_acc=0.586  val_auc=0.516\n",
      "Epoch 55/100  val_acc=0.708  val_bal_acc=0.562  val_auc=0.547\n",
      "Epoch 60/100  val_acc=0.722  val_bal_acc=0.570  val_auc=0.488\n",
      "Epoch 65/100  val_acc=0.764  val_bal_acc=0.594  val_auc=0.510\n",
      "Epoch 70/100  val_acc=0.764  val_bal_acc=0.594  val_auc=0.551\n",
      "Epoch 75/100  val_acc=0.736  val_bal_acc=0.523  val_auc=0.578\n",
      "Epoch 80/100  val_acc=0.750  val_bal_acc=0.531  val_auc=0.484\n",
      "Epoch 85/100  val_acc=0.653  val_bal_acc=0.531  val_auc=0.494\n",
      "Epoch 90/100  val_acc=0.764  val_bal_acc=0.594  val_auc=0.477\n",
      "Epoch 95/100  val_acc=0.694  val_bal_acc=0.500  val_auc=0.463\n",
      "Epoch 100/100  val_acc=0.708  val_bal_acc=0.508  val_auc=0.461\n",
      "LSTM final  ACC=0.708  BAL_ACC=0.508  AUC=0.461\n",
      "Confusion matrix:\n",
      " [[ 2  6]\n",
      " [15 49]]\n",
      "              precision    recall  f1-score   support\n",
      "\n",
      "         0.0      0.118     0.250     0.160         8\n",
      "         1.0      0.891     0.766     0.824        64\n",
      "\n",
      "    accuracy                          0.708        72\n",
      "   macro avg      0.504     0.508     0.492        72\n",
      "weighted avg      0.805     0.708     0.750        72\n",
      "\n",
      "\n",
      "Training Transformer…\n",
      "Epoch 05/100  val_acc=0.889  val_bal_acc=0.500  val_auc=0.578\n",
      "Epoch 10/100  val_acc=0.111  val_bal_acc=0.500  val_auc=0.619\n",
      "Epoch 15/100  val_acc=0.889  val_bal_acc=0.500  val_auc=0.594\n",
      "Epoch 20/100  val_acc=0.361  val_bal_acc=0.477  val_auc=0.447\n",
      "Epoch 25/100  val_acc=0.222  val_bal_acc=0.453  val_auc=0.471\n",
      "Epoch 30/100  val_acc=0.306  val_bal_acc=0.500  val_auc=0.523\n",
      "Epoch 35/100  val_acc=0.528  val_bal_acc=0.461  val_auc=0.488\n",
      "Epoch 40/100  val_acc=0.458  val_bal_acc=0.477  val_auc=0.533\n",
      "Epoch 45/100  val_acc=0.417  val_bal_acc=0.562  val_auc=0.570\n",
      "Epoch 50/100  val_acc=0.653  val_bal_acc=0.422  val_auc=0.447\n",
      "Epoch 55/100  val_acc=0.611  val_bal_acc=0.562  val_auc=0.591\n",
      "Epoch 60/100  val_acc=0.556  val_bal_acc=0.586  val_auc=0.522\n",
      "Epoch 65/100  val_acc=0.486  val_bal_acc=0.438  val_auc=0.475\n",
      "Epoch 70/100  val_acc=0.611  val_bal_acc=0.508  val_auc=0.498\n",
      "Epoch 75/100  val_acc=0.597  val_bal_acc=0.609  val_auc=0.618\n",
      "Epoch 80/100  val_acc=0.306  val_bal_acc=0.445  val_auc=0.447\n",
      "Epoch 85/100  val_acc=0.431  val_bal_acc=0.516  val_auc=0.537\n",
      "Epoch 90/100  val_acc=0.431  val_bal_acc=0.516  val_auc=0.544\n",
      "Epoch 95/100  val_acc=0.444  val_bal_acc=0.469  val_auc=0.490\n",
      "Epoch 100/100  val_acc=0.375  val_bal_acc=0.484  val_auc=0.533\n",
      "Transformer final  ACC=0.375  BAL_ACC=0.484  AUC=0.533\n",
      "Confusion matrix:\n",
      " [[ 5  3]\n",
      " [42 22]]\n",
      "              precision    recall  f1-score   support\n",
      "\n",
      "         0.0      0.106     0.625     0.182         8\n",
      "         1.0      0.880     0.344     0.494        64\n",
      "\n",
      "    accuracy                          0.375        72\n",
      "   macro avg      0.493     0.484     0.338        72\n",
      "weighted avg      0.794     0.375     0.460        72\n",
      "\n"
     ]
    }
   ],
   "source": [
    "models = {\n",
    "    \"GRU\": mnn.RNNClassifier(cell=\"gru\"),\n",
    "    \"LSTM\": mnn.RNNClassifier(cell=\"lstm\"),\n",
    "    \"Transformer\": mnn.TransformerClassifier()\n",
    "}\n",
    "\n",
    "for name, model in models.items():\n",
    "    print(f\"\\nTraining {name}…\")\n",
    "    te.train(\n",
    "        model, train_loader, val_loader,\n",
    "        device=DEVICE, epochs=EPOCHS, lr=LR,\n",
    "    )\n",
    "    acc, bal_acc, auc, _, _ = te.evaluate(model, val_loader, device=DEVICE)\n",
    "    print(\n",
    "        f\"{name} final  ACC={acc:.3f}  BAL_ACC={bal_acc:.3f}  AUC={auc:.3f}\"\n",
    "    )\n",
    "\n",
    "    preds, targets = te.get_predictions(model, val_loader, device=DEVICE)\n",
    "    cm = confusion_matrix(targets, preds)\n",
    "    print(\"Confusion matrix:\\n\", cm)\n",
    "    print(classification_report(targets, preds, digits=3))\n"
   ]
  },
  {
   "cell_type": "code",
   "execution_count": null,
   "id": "24f10a31",
   "metadata": {},
   "outputs": [],
   "source": []
  }
 ],
 "metadata": {
  "kernelspec": {
   "display_name": "base",
   "language": "python",
   "name": "python3"
  },
  "language_info": {
   "codemirror_mode": {
    "name": "ipython",
    "version": 3
   },
   "file_extension": ".py",
   "mimetype": "text/x-python",
   "name": "python",
   "nbconvert_exporter": "python",
   "pygments_lexer": "ipython3",
   "version": "3.12.3"
  }
 },
 "nbformat": 4,
 "nbformat_minor": 5
}
