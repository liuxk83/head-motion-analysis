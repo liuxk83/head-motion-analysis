{
 "cells": [
  {
   "cell_type": "markdown",
   "id": "58bc4301",
   "metadata": {},
   "source": [
    "# Data Analysis\n",
    "\n",
    "In this notebook, we load the framewise displacement data and perform some exploratory data analysis by generating some visualizations of the data."
   ]
  },
  {
   "cell_type": "code",
   "execution_count": 17,
   "id": "f6b12907",
   "metadata": {},
   "outputs": [
    {
     "name": "stdout",
     "output_type": "stream",
     "text": [
      "The autoreload extension is already loaded. To reload it, use:\n",
      "  %reload_ext autoreload\n"
     ]
    }
   ],
   "source": [
    "# add modules to path\n",
    "import sys\n",
    "sys.path.insert(1, '../src')\n",
    "\n",
    "# library imports\n",
    "import torch\n",
    "import random\n",
    "import numpy as np\n",
    "from sklearn.metrics import confusion_matrix, classification_report\n",
    "\n",
    "# project imports\n",
    "import data_processing as dp\n",
    "import train_eval as te\n",
    "import models_nn as mnn\n",
    "\n",
    "# autoreload all modules\n",
    "%load_ext autoreload\n",
    "%autoreload 2"
   ]
  },
  {
   "cell_type": "code",
   "execution_count": 18,
   "id": "20ece4cd-6252-4189-9bdd-95f8e936ac39",
   "metadata": {},
   "outputs": [
    {
     "name": "stdout",
     "output_type": "stream",
     "text": [
      "Loaded 320/364 PD subjects and 44/88 Control subjects\n",
      "Loaded 1445 subject-run combinations\n"
     ]
    }
   ],
   "source": [
    "# Load the data from the .npz file\n",
    "data_dict_ppmi, pd_keys, control_keys = dp.load_ppmi_data()\n",
    "data_dict_hcp = dp.load_hcp_data()"
   ]
  },
  {
   "cell_type": "code",
   "execution_count": 19,
   "id": "c29e325b-7e72-4ced-aec9-0bf1c8942fdc",
   "metadata": {},
   "outputs": [],
   "source": [
    "# ----------------------- Hyper-parameters ----------------------- #\n",
    "MAX_LEN = 200  # truncate / zero-pad sequences to this length\n",
    "BATCH_SIZE = 32\n",
    "EPOCHS = 100\n",
    "LR = 2e-3\n",
    "DEVICE = \"cuda\" if torch.cuda.is_available() else \"cpu\"\n",
    "RNG_SEED = 42\n",
    "\n",
    "random.seed(RNG_SEED)\n",
    "np.random.seed(RNG_SEED)\n",
    "torch.manual_seed(RNG_SEED)\n",
    "\n",
    "keys = pd_keys + control_keys\n",
    "random.shuffle(keys)\n",
    "\n",
    "# dataset = dp.MotionDataset(data_dict, keys, MAX_LEN)\n",
    "\n",
    "dataset = dp.MotionDataset(\n",
    "    datasets=[\n",
    "        (data_dict_ppmi, pd_keys, 1),         # PPMI PD subjects, label 1\n",
    "        (data_dict_ppmi, control_keys, 0),    # PPMI Control subjects, label 0\n",
    "        (data_dict_hcp, list(data_dict_hcp.keys())[0:276], 0),  # HCP subjects, label 2 (or 0 if you want to treat as controls)\n",
    "    ],\n",
    "    metric_map=[\n",
    "        \"framewise_displacement\",              # for PPMI PD\n",
    "        \"framewise_displacement\",              # for PPMI Control\n",
    "        \"framewise_displacement_equivalent\"    # for HCP\n",
    "    ],\n",
    "    max_len=200\n",
    ")\n",
    "\n",
    "train_loader, val_loader = te.train_val_split(\n",
    "        dataset, val_size=0.2, random_state=RNG_SEED, batch_size=BATCH_SIZE\n",
    ")\n"
   ]
  },
  {
   "cell_type": "code",
   "execution_count": 20,
   "id": "bb31e909",
   "metadata": {},
   "outputs": [
    {
     "data": {
      "text/plain": [
       "torch.Size([32])"
      ]
     },
     "execution_count": 20,
     "metadata": {},
     "output_type": "execute_result"
    }
   ],
   "source": [
    "next(iter(train_loader))[1].shape"
   ]
  },
  {
   "cell_type": "code",
   "execution_count": null,
   "id": "c13ae7b1",
   "metadata": {},
   "outputs": [
    {
     "name": "stdout",
     "output_type": "stream",
     "text": [
      "\n",
      "Training GRU…\n",
      "Epoch 05/100  val_acc=0.523  val_bal_acc=0.539  val_auc=0.586\n",
      "Epoch 10/100  val_acc=0.523  val_bal_acc=0.554  val_auc=0.596\n",
      "Epoch 15/100  val_acc=0.570  val_bal_acc=0.581  val_auc=0.674\n",
      "Epoch 20/100  val_acc=0.648  val_bal_acc=0.621  val_auc=0.697\n",
      "Epoch 25/100  val_acc=0.625  val_bal_acc=0.613  val_auc=0.690\n",
      "Epoch 30/100  val_acc=0.688  val_bal_acc=0.680  val_auc=0.704\n",
      "Epoch 35/100  val_acc=0.688  val_bal_acc=0.680  val_auc=0.726\n",
      "Epoch 40/100  val_acc=0.680  val_bal_acc=0.664  val_auc=0.756\n",
      "Epoch 45/100  val_acc=0.688  val_bal_acc=0.685  val_auc=0.741\n",
      "Epoch 50/100  val_acc=0.719  val_bal_acc=0.710  val_auc=0.791\n",
      "Epoch 55/100  val_acc=0.703  val_bal_acc=0.703  val_auc=0.776\n",
      "Epoch 60/100  val_acc=0.703  val_bal_acc=0.706  val_auc=0.763\n",
      "Epoch 65/100  val_acc=0.695  val_bal_acc=0.696  val_auc=0.755\n",
      "Epoch 70/100  val_acc=0.711  val_bal_acc=0.708  val_auc=0.770\n",
      "Epoch 75/100  val_acc=0.711  val_bal_acc=0.714  val_auc=0.771\n",
      "Epoch 80/100  val_acc=0.727  val_bal_acc=0.725  val_auc=0.754\n",
      "Epoch 85/100  val_acc=0.680  val_bal_acc=0.664  val_auc=0.705\n",
      "Epoch 90/100  val_acc=0.711  val_bal_acc=0.712  val_auc=0.745\n",
      "Epoch 95/100  val_acc=0.688  val_bal_acc=0.688  val_auc=0.708\n",
      "Epoch 100/100  val_acc=0.672  val_bal_acc=0.666  val_auc=0.719\n",
      "GRU final  ACC=0.672  BAL_ACC=0.666  AUC=0.719\n",
      "Confusion matrix:\n",
      " [[35 23]\n",
      " [19 51]]\n",
      "              precision    recall  f1-score   support\n",
      "\n",
      "         0.0      0.648     0.603     0.625        58\n",
      "         1.0      0.689     0.729     0.708        70\n",
      "\n",
      "    accuracy                          0.672       128\n",
      "   macro avg      0.669     0.666     0.667       128\n",
      "weighted avg      0.671     0.672     0.671       128\n",
      "\n",
      "\n",
      "Training LSTM…\n",
      "Epoch 05/100  val_acc=0.586  val_bal_acc=0.568  val_auc=0.625\n",
      "Epoch 10/100  val_acc=0.453  val_bal_acc=0.500  val_auc=0.485\n",
      "Epoch 15/100  val_acc=0.500  val_bal_acc=0.528  val_auc=0.510\n",
      "Epoch 20/100  val_acc=0.469  val_bal_acc=0.491  val_auc=0.529\n",
      "Epoch 25/100  val_acc=0.562  val_bal_acc=0.563  val_auc=0.583\n",
      "Epoch 30/100  val_acc=0.562  val_bal_acc=0.567  val_auc=0.631\n",
      "Epoch 35/100  val_acc=0.648  val_bal_acc=0.622  val_auc=0.663\n",
      "Epoch 40/100  val_acc=0.602  val_bal_acc=0.622  val_auc=0.665\n",
      "Epoch 45/100  val_acc=0.516  val_bal_acc=0.553  val_auc=0.618\n",
      "Epoch 50/100  val_acc=0.578  val_bal_acc=0.576  val_auc=0.593\n",
      "Epoch 55/100  val_acc=0.609  val_bal_acc=0.633  val_auc=0.648\n",
      "Epoch 60/100  val_acc=0.664  val_bal_acc=0.657  val_auc=0.667\n",
      "Epoch 65/100  val_acc=0.656  val_bal_acc=0.647  val_auc=0.722\n",
      "Epoch 70/100  val_acc=0.656  val_bal_acc=0.658  val_auc=0.693\n",
      "Epoch 75/100  val_acc=0.656  val_bal_acc=0.634  val_auc=0.687\n",
      "Epoch 80/100  val_acc=0.688  val_bal_acc=0.679  val_auc=0.721\n",
      "Epoch 85/100  val_acc=0.648  val_bal_acc=0.652  val_auc=0.690\n",
      "Epoch 90/100  val_acc=0.703  val_bal_acc=0.692  val_auc=0.694\n",
      "Epoch 95/100  val_acc=0.703  val_bal_acc=0.700  val_auc=0.711\n",
      "Epoch 100/100  val_acc=0.570  val_bal_acc=0.579  val_auc=0.627\n",
      "LSTM final  ACC=0.570  BAL_ACC=0.579  AUC=0.627\n",
      "Confusion matrix:\n",
      " [[39 19]\n",
      " [36 34]]\n",
      "              precision    recall  f1-score   support\n",
      "\n",
      "         0.0      0.520     0.672     0.586        58\n",
      "         1.0      0.642     0.486     0.553        70\n",
      "\n",
      "    accuracy                          0.570       128\n",
      "   macro avg      0.581     0.579     0.570       128\n",
      "weighted avg      0.586     0.570     0.568       128\n",
      "\n",
      "\n",
      "Training Transformer…\n",
      "Epoch 05/100  val_acc=0.547  val_bal_acc=0.500  val_auc=0.597\n",
      "Epoch 10/100  val_acc=0.547  val_bal_acc=0.500  val_auc=0.690\n",
      "Epoch 15/100  val_acc=0.602  val_bal_acc=0.563  val_auc=0.715\n",
      "Epoch 20/100  val_acc=0.641  val_bal_acc=0.623  val_auc=0.650\n",
      "Epoch 25/100  val_acc=0.648  val_bal_acc=0.615  val_auc=0.576\n",
      "Epoch 30/100  val_acc=0.727  val_bal_acc=0.707  val_auc=0.749\n",
      "Epoch 35/100  val_acc=0.742  val_bal_acc=0.729  val_auc=0.768\n",
      "Epoch 40/100  val_acc=0.719  val_bal_acc=0.699  val_auc=0.719\n",
      "Epoch 45/100  val_acc=0.734  val_bal_acc=0.722  val_auc=0.745\n",
      "Epoch 50/100  val_acc=0.711  val_bal_acc=0.696  val_auc=0.724\n",
      "Epoch 55/100  val_acc=0.734  val_bal_acc=0.725  val_auc=0.808\n",
      "Epoch 60/100  val_acc=0.711  val_bal_acc=0.719  val_auc=0.764\n"
     ]
    }
   ],
   "source": [
    "models = {\n",
    "    \"GRU\": mnn.RNNClassifier(cell=\"gru\"),\n",
    "    \"LSTM\": mnn.RNNClassifier(cell=\"lstm\"),\n",
    "    \"Transformer\": mnn.TransformerClassifier()\n",
    "}\n",
    "\n",
    "for name, model in models.items():\n",
    "    print(f\"\\nTraining {name}…\")\n",
    "    te.train(\n",
    "        model, train_loader, val_loader,\n",
    "        device=DEVICE, epochs=EPOCHS, lr=LR,\n",
    "    )\n",
    "    acc, bal_acc, auc, _, _ = te.evaluate(model, val_loader, device=DEVICE)\n",
    "    print(\n",
    "        f\"{name} final  ACC={acc:.3f}  BAL_ACC={bal_acc:.3f}  AUC={auc:.3f}\"\n",
    "    )\n",
    "\n",
    "    preds, targets = te.get_predictions(model, val_loader, device=DEVICE)\n",
    "    cm = confusion_matrix(targets, preds)\n",
    "    print(\"Confusion matrix:\\n\", cm)\n",
    "    print(classification_report(targets, preds, digits=3))\n"
   ]
  },
  {
   "cell_type": "code",
   "execution_count": null,
   "id": "24f10a31",
   "metadata": {},
   "outputs": [],
   "source": []
  }
 ],
 "metadata": {
  "kernelspec": {
   "display_name": "base",
   "language": "python",
   "name": "python3"
  },
  "language_info": {
   "codemirror_mode": {
    "name": "ipython",
    "version": 3
   },
   "file_extension": ".py",
   "mimetype": "text/x-python",
   "name": "python",
   "nbconvert_exporter": "python",
   "pygments_lexer": "ipython3",
   "version": "3.12.3"
  }
 },
 "nbformat": 4,
 "nbformat_minor": 5
}
