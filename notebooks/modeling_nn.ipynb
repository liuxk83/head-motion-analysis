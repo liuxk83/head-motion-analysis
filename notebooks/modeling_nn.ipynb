{
 "cells": [
  {
   "cell_type": "markdown",
   "id": "58bc4301",
   "metadata": {},
   "source": [
    "# Data Analysis\n",
    "\n",
    "In this notebook, we load the framewise displacement data and perform some exploratory data analysis by generating some visualizations of the data."
   ]
  },
  {
   "cell_type": "code",
   "execution_count": 2,
   "id": "f6b12907",
   "metadata": {},
   "outputs": [],
   "source": [
    "import numpy as np\n",
    "import random\n",
    "import torch\n",
    "from sklearn.metrics import confusion_matrix, classification_report\n",
    "import sys\n",
    "sys.path.insert(1, '../src')\n",
    "\n",
    "import data_processing as dp\n",
    "import train_eval as te\n",
    "import models_nn as mnn\n"
   ]
  },
  {
   "cell_type": "code",
   "execution_count": 10,
   "id": "1d451676",
   "metadata": {},
   "outputs": [
    {
     "data": {
      "text/plain": [
       "<module 'models_stats' from '/Users/kevin/Repos/head-motion-analysis/notebooks/../src/models_stats.py'>"
      ]
     },
     "execution_count": 10,
     "metadata": {},
     "output_type": "execute_result"
    }
   ],
   "source": [
    "from importlib import reload\n",
    "reload(dp)\n",
    "reload(te)\n",
    "reload(mnn)\n",
    "reload(mstats)\n"
   ]
  },
  {
   "cell_type": "code",
   "execution_count": 7,
   "id": "20ece4cd-6252-4189-9bdd-95f8e936ac39",
   "metadata": {},
   "outputs": [
    {
     "name": "stdout",
     "output_type": "stream",
     "text": [
      "PD: Removed 283 out of 603\n",
      "Control: Removed 38 out of 82\n"
     ]
    }
   ],
   "source": [
    "# Load the data from the .npz file\n",
    "data_file = '../framewise_displacement_data.npz'\n",
    "data = np.load(data_file, allow_pickle=True)\n",
    "\n",
    "# Convert the loaded data to a dictionary\n",
    "data_dict = {key: data[key].item() for key in data}\n",
    "\n",
    "pd_keys = dp.filter_valid_subjects(data_dict, 'PD')\n",
    "control_keys = dp.filter_valid_subjects(data_dict, 'Control')\n"
   ]
  },
  {
   "cell_type": "code",
   "execution_count": 8,
   "id": "c29e325b-7e72-4ced-aec9-0bf1c8942fdc",
   "metadata": {},
   "outputs": [],
   "source": [
    "# ----------------------- Hyper-parameters ----------------------- #\n",
    "MAX_LEN = 100  # truncate / zero-pad sequences to this length\n",
    "BATCH_SIZE = 32\n",
    "EPOCHS = 100\n",
    "LR = 2e-3\n",
    "DEVICE = \"cuda\" if torch.cuda.is_available() else \"cpu\"\n",
    "RNG_SEED = 42\n",
    "\n",
    "random.seed(RNG_SEED)\n",
    "np.random.seed(RNG_SEED)\n",
    "torch.manual_seed(RNG_SEED)\n",
    "\n",
    "keys = pd_keys + control_keys\n",
    "random.shuffle(keys)\n",
    "\n",
    "dataset = dp.MotionDataset(data_dict, keys)\n",
    "train_loader, val_loader = te.train_val_split(\n",
    "        dataset, val_size=0.2, random_state=RNG_SEED, batch_size=BATCH_SIZE\n",
    ")\n"
   ]
  },
  {
   "cell_type": "code",
   "execution_count": 11,
   "id": "c13ae7b1",
   "metadata": {},
   "outputs": [
    {
     "name": "stdout",
     "output_type": "stream",
     "text": [
      "\n",
      "Training GRU…\n",
      "Epoch 05/100  val_acc=0.486  val_bal_acc=0.602  val_auc=0.699\n",
      "Epoch 10/100  val_acc=0.847  val_bal_acc=0.586  val_auc=0.635\n",
      "Epoch 15/100  val_acc=0.792  val_bal_acc=0.609  val_auc=0.525\n",
      "Epoch 20/100  val_acc=0.681  val_bal_acc=0.602  val_auc=0.557\n",
      "Epoch 25/100  val_acc=0.694  val_bal_acc=0.500  val_auc=0.412\n",
      "Epoch 30/100  val_acc=0.764  val_bal_acc=0.484  val_auc=0.582\n",
      "Epoch 35/100  val_acc=0.722  val_bal_acc=0.570  val_auc=0.539\n",
      "Epoch 40/100  val_acc=0.833  val_bal_acc=0.688  val_auc=0.598\n",
      "Epoch 45/100  val_acc=0.792  val_bal_acc=0.500  val_auc=0.590\n",
      "Epoch 50/100  val_acc=0.736  val_bal_acc=0.469  val_auc=0.580\n",
      "Epoch 55/100  val_acc=0.750  val_bal_acc=0.477  val_auc=0.582\n",
      "Epoch 60/100  val_acc=0.778  val_bal_acc=0.547  val_auc=0.598\n",
      "Epoch 65/100  val_acc=0.750  val_bal_acc=0.586  val_auc=0.586\n",
      "Epoch 70/100  val_acc=0.764  val_bal_acc=0.484  val_auc=0.646\n",
      "Epoch 75/100  val_acc=0.764  val_bal_acc=0.430  val_auc=0.600\n",
      "Epoch 80/100  val_acc=0.778  val_bal_acc=0.438  val_auc=0.639\n",
      "Epoch 85/100  val_acc=0.792  val_bal_acc=0.445  val_auc=0.627\n",
      "Epoch 90/100  val_acc=0.764  val_bal_acc=0.430  val_auc=0.631\n",
      "Epoch 95/100  val_acc=0.764  val_bal_acc=0.430  val_auc=0.625\n",
      "Epoch 100/100  val_acc=0.764  val_bal_acc=0.430  val_auc=0.629\n",
      "GRU final  ACC=0.764  BAL_ACC=0.430  AUC=0.629\n",
      "Confusion matrix:\n",
      " [[ 0  8]\n",
      " [ 9 55]]\n",
      "              precision    recall  f1-score   support\n",
      "\n",
      "         0.0      0.000     0.000     0.000         8\n",
      "         1.0      0.873     0.859     0.866        64\n",
      "\n",
      "    accuracy                          0.764        72\n",
      "   macro avg      0.437     0.430     0.433        72\n",
      "weighted avg      0.776     0.764     0.770        72\n",
      "\n",
      "\n",
      "Training LSTM…\n",
      "Epoch 05/100  val_acc=0.542  val_bal_acc=0.633  val_auc=0.684\n",
      "Epoch 10/100  val_acc=0.806  val_bal_acc=0.672  val_auc=0.623\n",
      "Epoch 15/100  val_acc=0.778  val_bal_acc=0.656  val_auc=0.701\n",
      "Epoch 20/100  val_acc=0.653  val_bal_acc=0.531  val_auc=0.531\n",
      "Epoch 25/100  val_acc=0.500  val_bal_acc=0.500  val_auc=0.600\n",
      "Epoch 30/100  val_acc=0.625  val_bal_acc=0.570  val_auc=0.588\n",
      "Epoch 35/100  val_acc=0.667  val_bal_acc=0.594  val_auc=0.693\n",
      "Epoch 40/100  val_acc=0.694  val_bal_acc=0.664  val_auc=0.678\n",
      "Epoch 45/100  val_acc=0.597  val_bal_acc=0.555  val_auc=0.596\n",
      "Epoch 50/100  val_acc=0.625  val_bal_acc=0.516  val_auc=0.521\n",
      "Epoch 55/100  val_acc=0.653  val_bal_acc=0.531  val_auc=0.574\n",
      "Epoch 60/100  val_acc=0.667  val_bal_acc=0.539  val_auc=0.566\n",
      "Epoch 65/100  val_acc=0.639  val_bal_acc=0.469  val_auc=0.553\n",
      "Epoch 70/100  val_acc=0.653  val_bal_acc=0.531  val_auc=0.568\n",
      "Epoch 75/100  val_acc=0.681  val_bal_acc=0.492  val_auc=0.547\n",
      "Epoch 80/100  val_acc=0.653  val_bal_acc=0.477  val_auc=0.533\n",
      "Epoch 85/100  val_acc=0.708  val_bal_acc=0.508  val_auc=0.535\n",
      "Epoch 90/100  val_acc=0.639  val_bal_acc=0.469  val_auc=0.609\n",
      "Epoch 95/100  val_acc=0.667  val_bal_acc=0.594  val_auc=0.613\n",
      "Epoch 100/100  val_acc=0.708  val_bal_acc=0.617  val_auc=0.594\n",
      "LSTM final  ACC=0.708  BAL_ACC=0.617  AUC=0.594\n",
      "Confusion matrix:\n",
      " [[ 4  4]\n",
      " [17 47]]\n",
      "              precision    recall  f1-score   support\n",
      "\n",
      "         0.0      0.190     0.500     0.276         8\n",
      "         1.0      0.922     0.734     0.817        64\n",
      "\n",
      "    accuracy                          0.708        72\n",
      "   macro avg      0.556     0.617     0.547        72\n",
      "weighted avg      0.840     0.708     0.757        72\n",
      "\n",
      "\n",
      "Training Transformer…\n",
      "Epoch 05/100  val_acc=0.111  val_bal_acc=0.500  val_auc=0.436\n",
      "Epoch 10/100  val_acc=0.111  val_bal_acc=0.500  val_auc=0.615\n",
      "Epoch 15/100  val_acc=0.889  val_bal_acc=0.500  val_auc=0.617\n",
      "Epoch 20/100  val_acc=0.111  val_bal_acc=0.500  val_auc=0.580\n",
      "Epoch 25/100  val_acc=0.889  val_bal_acc=0.500  val_auc=0.586\n",
      "Epoch 30/100  val_acc=0.792  val_bal_acc=0.555  val_auc=0.518\n",
      "Epoch 35/100  val_acc=0.889  val_bal_acc=0.500  val_auc=0.580\n",
      "Epoch 40/100  val_acc=0.111  val_bal_acc=0.500  val_auc=0.582\n",
      "Epoch 45/100  val_acc=0.111  val_bal_acc=0.500  val_auc=0.549\n",
      "Epoch 50/100  val_acc=0.111  val_bal_acc=0.500  val_auc=0.533\n",
      "Epoch 55/100  val_acc=0.111  val_bal_acc=0.500  val_auc=0.551\n",
      "Epoch 60/100  val_acc=0.111  val_bal_acc=0.500  val_auc=0.604\n",
      "Epoch 65/100  val_acc=0.889  val_bal_acc=0.500  val_auc=0.609\n",
      "Epoch 70/100  val_acc=0.889  val_bal_acc=0.500  val_auc=0.607\n",
      "Epoch 75/100  val_acc=0.889  val_bal_acc=0.500  val_auc=0.566\n",
      "Epoch 80/100  val_acc=0.889  val_bal_acc=0.500  val_auc=0.566\n",
      "Epoch 85/100  val_acc=0.889  val_bal_acc=0.500  val_auc=0.584\n",
      "Epoch 90/100  val_acc=0.889  val_bal_acc=0.500  val_auc=0.586\n",
      "Epoch 95/100  val_acc=0.111  val_bal_acc=0.500  val_auc=0.588\n",
      "Epoch 100/100  val_acc=0.889  val_bal_acc=0.500  val_auc=0.588\n",
      "Transformer final  ACC=0.889  BAL_ACC=0.500  AUC=0.588\n",
      "Confusion matrix:\n",
      " [[ 0  8]\n",
      " [ 0 64]]\n",
      "              precision    recall  f1-score   support\n",
      "\n",
      "         0.0      0.000     0.000     0.000         8\n",
      "         1.0      0.889     1.000     0.941        64\n",
      "\n",
      "    accuracy                          0.889        72\n",
      "   macro avg      0.444     0.500     0.471        72\n",
      "weighted avg      0.790     0.889     0.837        72\n",
      "\n"
     ]
    },
    {
     "name": "stderr",
     "output_type": "stream",
     "text": [
      "/opt/anaconda3/lib/python3.9/site-packages/sklearn/metrics/_classification.py:1531: UndefinedMetricWarning: Precision is ill-defined and being set to 0.0 in labels with no predicted samples. Use `zero_division` parameter to control this behavior.\n",
      "  _warn_prf(average, modifier, f\"{metric.capitalize()} is\", len(result))\n",
      "/opt/anaconda3/lib/python3.9/site-packages/sklearn/metrics/_classification.py:1531: UndefinedMetricWarning: Precision is ill-defined and being set to 0.0 in labels with no predicted samples. Use `zero_division` parameter to control this behavior.\n",
      "  _warn_prf(average, modifier, f\"{metric.capitalize()} is\", len(result))\n",
      "/opt/anaconda3/lib/python3.9/site-packages/sklearn/metrics/_classification.py:1531: UndefinedMetricWarning: Precision is ill-defined and being set to 0.0 in labels with no predicted samples. Use `zero_division` parameter to control this behavior.\n",
      "  _warn_prf(average, modifier, f\"{metric.capitalize()} is\", len(result))\n"
     ]
    }
   ],
   "source": [
    "models = {\n",
    "    \"GRU\": mnn.RNNClassifier(cell=\"gru\"),\n",
    "    \"LSTM\": mnn.RNNClassifier(cell=\"lstm\"),\n",
    "    \"Transformer\": mnn.TransformerClassifier()\n",
    "}\n",
    "\n",
    "for name, model in models.items():\n",
    "    print(f\"\\nTraining {name}…\")\n",
    "    te.train(\n",
    "        model, train_loader, val_loader,\n",
    "        device=DEVICE, epochs=EPOCHS, lr=LR,\n",
    "    )\n",
    "    acc, bal_acc, auc, _, _ = te.evaluate(model, val_loader, device=DEVICE)\n",
    "    print(\n",
    "        f\"{name} final  ACC={acc:.3f}  BAL_ACC={bal_acc:.3f}  AUC={auc:.3f}\"\n",
    "    )\n",
    "\n",
    "    preds, targets = te.get_predictions(model, val_loader, device=DEVICE)\n",
    "    cm = confusion_matrix(targets, preds)\n",
    "    print(\"Confusion matrix:\\n\", cm)\n",
    "    print(classification_report(targets, preds, digits=3))\n"
   ]
  },
  {
   "cell_type": "code",
   "execution_count": null,
   "id": "24f10a31",
   "metadata": {},
   "outputs": [],
   "source": []
  }
 ],
 "metadata": {
  "kernelspec": {
   "display_name": "base",
   "language": "python",
   "name": "python3"
  },
  "language_info": {
   "codemirror_mode": {
    "name": "ipython",
    "version": 3
   },
   "file_extension": ".py",
   "mimetype": "text/x-python",
   "name": "python",
   "nbconvert_exporter": "python",
   "pygments_lexer": "ipython3",
   "version": "3.9.12"
  }
 },
 "nbformat": 4,
 "nbformat_minor": 5
}
